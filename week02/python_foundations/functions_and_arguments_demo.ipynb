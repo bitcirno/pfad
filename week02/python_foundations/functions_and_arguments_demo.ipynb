{
 "cells": [
  {
   "cell_type": "markdown",
   "id": "3bb5e5ef",
   "metadata": {},
   "source": [
    "# Python Functions and Argument Calling Demo\n",
    "\n",
    "This notebook demonstrates how to define functions in Python and the different ways to call them: ordered (positional), named (keyword), and using a kwargs dictionary."
   ]
  },
  {
   "cell_type": "markdown",
   "id": "a3e15f18",
   "metadata": {},
   "source": [
    "## 1. Defining a Simple Function\n",
    "Let's define a function that takes three arguments and prints them."
   ]
  },
  {
   "cell_type": "code",
   "id": "3fccba06",
   "metadata": {
    "ExecuteTime": {
     "end_time": "2025-09-11T08:46:50.461640Z",
     "start_time": "2025-09-11T08:46:50.455939Z"
    }
   },
   "source": [
    "def demo_func(a, b, c):\n",
    "    print(f'a = {a}')\n",
    "    print(f'b = {b}')\n",
    "    print(f'c = {c}')"
   ],
   "outputs": [],
   "execution_count": 1
  },
  {
   "cell_type": "markdown",
   "id": "f22877a6",
   "metadata": {},
   "source": [
    "## 2. Calling the Function with Ordered (Positional) Arguments"
   ]
  },
  {
   "cell_type": "code",
   "id": "1b512f41",
   "metadata": {
    "ExecuteTime": {
     "end_time": "2025-09-11T08:46:50.469746Z",
     "start_time": "2025-09-11T08:46:50.464Z"
    }
   },
   "source": [
    "demo_func(1, 2, 3)"
   ],
   "outputs": [
    {
     "name": "stdout",
     "output_type": "stream",
     "text": [
      "a = 1\n",
      "b = 2\n",
      "c = 3\n"
     ]
    }
   ],
   "execution_count": 2
  },
  {
   "cell_type": "markdown",
   "id": "a8e25833",
   "metadata": {},
   "source": [
    "## 3. Calling the Function with Named (Keyword) Arguments"
   ]
  },
  {
   "cell_type": "code",
   "id": "bb9d073a",
   "metadata": {
    "ExecuteTime": {
     "end_time": "2025-09-11T08:46:50.475852Z",
     "start_time": "2025-09-11T08:46:50.471594Z"
    }
   },
   "source": [
    "demo_func(a=10, c=30, b=20)"
   ],
   "outputs": [
    {
     "name": "stdout",
     "output_type": "stream",
     "text": [
      "a = 10\n",
      "b = 20\n",
      "c = 30\n"
     ]
    }
   ],
   "execution_count": 3
  },
  {
   "cell_type": "markdown",
   "id": "1b546641",
   "metadata": {},
   "source": [
    "## 4. Calling the Function with a kwargs Dictionary"
   ]
  },
  {
   "cell_type": "code",
   "id": "64712572",
   "metadata": {
    "ExecuteTime": {
     "end_time": "2025-09-11T08:46:50.483281Z",
     "start_time": "2025-09-11T08:46:50.477909Z"
    }
   },
   "source": [
    "args_dict = {'a': 'apple', 'b': 'banana', 'c': 'cherry'}\n",
    "demo_func(**args_dict)"
   ],
   "outputs": [
    {
     "name": "stdout",
     "output_type": "stream",
     "text": [
      "a = apple\n",
      "b = banana\n",
      "c = cherry\n"
     ]
    }
   ],
   "execution_count": 4
  },
  {
   "cell_type": "markdown",
   "id": "ffa1a6b8",
   "metadata": {},
   "source": [
    "---\n",
    "You can experiment by changing the values or the order of arguments above to see how Python handles function arguments!"
   ]
  },
  {
   "cell_type": "markdown",
   "id": "a98d4897",
   "metadata": {},
   "source": [
    "## 5. Using a Function's Output\n",
    "\n",
    "Let's modify our function to return a value, and show how to use that output in your code."
   ]
  },
  {
   "cell_type": "code",
   "id": "1e619609",
   "metadata": {
    "ExecuteTime": {
     "end_time": "2025-09-11T08:46:50.492537Z",
     "start_time": "2025-09-11T08:46:50.486804Z"
    }
   },
   "source": [
    "def add_and_format(a, b, c):\n",
    "    total = a + b + c\n",
    "    return f\"Sum is: {total}\"\n",
    "\n",
    "# Use the function and store the result\n",
    "result = add_and_format(2, 4, 6)\n",
    "print(result)"
   ],
   "outputs": [
    {
     "name": "stdout",
     "output_type": "stream",
     "text": [
      "Sum is: 12\n"
     ]
    }
   ],
   "execution_count": 5
  },
  {
   "cell_type": "markdown",
   "id": "74e88812",
   "metadata": {},
   "source": [
    "## 6. Calling Methods on Objects\n",
    "\n",
    "In Python, methods are functions that belong to objects. Here are examples using the `append` and `extend` methods on lists."
   ]
  },
  {
   "cell_type": "code",
   "id": "4692ee5c",
   "metadata": {
    "ExecuteTime": {
     "end_time": "2025-09-11T08:46:50.501145Z",
     "start_time": "2025-09-11T08:46:50.494812Z"
    }
   },
   "source": [
    "# Create a list and use append and extend methods\n",
    "numbers = [1, 2, 3]\n",
    "numbers.append(4)  # Adds a single element to the end\n",
    "print('After append:', numbers)\n",
    "\n",
    "numbers.extend([5, 6, 7])  # Adds multiple elements from another iterable\n",
    "print('After extend:', numbers)"
   ],
   "outputs": [
    {
     "name": "stdout",
     "output_type": "stream",
     "text": [
      "After append: [1, 2, 3, 4]\n",
      "After extend: [1, 2, 3, 4, 5, 6, 7]\n"
     ]
    }
   ],
   "execution_count": 6
  }
 ],
 "metadata": {
  "language_info": {
   "name": "python"
  },
  "kernelspec": {
   "name": "python3",
   "language": "python",
   "display_name": "Python 3 (ipykernel)"
  }
 },
 "nbformat": 4,
 "nbformat_minor": 5
}
