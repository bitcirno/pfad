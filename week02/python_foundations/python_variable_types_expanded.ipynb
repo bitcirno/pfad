{
 "cells": [
  {
   "cell_type": "markdown",
   "id": "5a7f3edb",
   "metadata": {},
   "source": [
    "# Python Built-in Data Types\n",
    "\n",
    "Python provides a comprehensive set of built-in data types to store and manipulate various kinds of data. These types are fundamental to Python programming and are categorized as follows. Each section below includes explanations and expanded examples."
   ]
  },
  {
   "cell_type": "markdown",
   "id": "626e054c",
   "metadata": {},
   "source": [
    "## 1. Numeric Types\n",
    "- **int**: Whole numbers (integers), positive or negative, no decimal point.\n",
    "- **float**: Real numbers with a decimal point.\n",
    "- **complex**: Numbers with a real and imaginary part."
   ]
  },
  {
   "cell_type": "code",
   "id": "8a947bea",
   "metadata": {
    "ExecuteTime": {
     "end_time": "2025-09-11T08:47:10.283201Z",
     "start_time": "2025-09-11T08:47:10.271706Z"
    }
   },
   "source": [
    "# Integer examples\n",
    "x = 42\n",
    "negative = -7\n",
    "large = 12345678901234567890\n",
    "print('x:', x, type(x))\n",
    "print('negative:', negative, type(negative))\n",
    "print('large:', large, type(large))\n",
    "\n",
    "# Float examples\n",
    "pi = 3.14159\n",
    "negative_float = -2.718\n",
    "scientific = 1.2e3  # 1200.0\n",
    "print('pi:', pi, type(pi))\n",
    "print('negative_float:', negative_float, type(negative_float))\n",
    "print('scientific:', scientific, type(scientific))\n",
    "\n",
    "# Complex examples\n",
    "z = 3 + 2j\n",
    "z2 = complex(5, -1)\n",
    "print('z:', z, type(z))\n",
    "print('z2:', z2, type(z2))\n",
    "print('z real part:', z.real)\n",
    "print('z imaginary part:', z.imag)"
   ],
   "outputs": [
    {
     "name": "stdout",
     "output_type": "stream",
     "text": [
      "x: 42 <class 'int'>\n",
      "negative: -7 <class 'int'>\n",
      "large: 12345678901234567890 <class 'int'>\n",
      "pi: 3.14159 <class 'float'>\n",
      "negative_float: -2.718 <class 'float'>\n",
      "scientific: 1200.0 <class 'float'>\n",
      "z: (3+2j) <class 'complex'>\n",
      "z2: (5-1j) <class 'complex'>\n",
      "z real part: 3.0\n",
      "z imaginary part: 2.0\n"
     ]
    }
   ],
   "execution_count": 1
  },
  {
   "cell_type": "markdown",
   "id": "92419250",
   "metadata": {},
   "source": [
    "## 2. Boolean Type\n",
    "- **bool**: Represents truth values, either `True` or `False`."
   ]
  },
  {
   "cell_type": "code",
   "id": "86f989f9",
   "metadata": {
    "ExecuteTime": {
     "end_time": "2025-09-11T08:47:10.292439Z",
     "start_time": "2025-09-11T08:47:10.286089Z"
    }
   },
   "source": [
    "# Boolean examples\n",
    "is_valid = True\n",
    "is_empty = False\n",
    "print('is_valid:', is_valid, type(is_valid))\n",
    "print('is_empty:', is_empty, type(is_empty))\n",
    "\n",
    "# Booleans from comparisons\n",
    "print('5 > 3:', 5 > 3)\n",
    "print('2 == 4:', 2 == 4)\n",
    "\n",
    "# Boolean conversion\n",
    "print('bool(0):', bool(0))\n",
    "print('bool(42):', bool(42))\n",
    "print('bool(\"\"):', bool(\"\"))\n",
    "print('bool(\"hello\"):', bool(\"hello\"))"
   ],
   "outputs": [
    {
     "name": "stdout",
     "output_type": "stream",
     "text": [
      "is_valid: True <class 'bool'>\n",
      "is_empty: False <class 'bool'>\n",
      "5 > 3: True\n",
      "2 == 4: False\n",
      "bool(0): False\n",
      "bool(42): True\n",
      "bool(\"\"): False\n",
      "bool(\"hello\"): True\n"
     ]
    }
   ],
   "execution_count": 2
  },
  {
   "cell_type": "markdown",
   "id": "30c59538",
   "metadata": {},
   "source": [
    "## 3. Sequence Types\n",
    "- **str**: Sequences of characters (strings), immutable.\n",
    "- **list**: Ordered, mutable sequences.\n",
    "- **tuple**: Ordered, immutable sequences.\n",
    "- **range**: Immutable sequence of numbers, often used in loops."
   ]
  },
  {
   "cell_type": "code",
   "id": "88b78a96",
   "metadata": {
    "ExecuteTime": {
     "end_time": "2025-09-11T08:47:10.303904Z",
     "start_time": "2025-09-11T08:47:10.294586Z"
    }
   },
   "source": [
    "# String examples\n",
    "s = 'Hello, world!'\n",
    "multiline = \"\"\"This is a\\nmulti-line string.\"\"\"\n",
    "print('s:', s, type(s))\n",
    "print('multiline:', multiline)\n",
    "print('First 5 chars:', s[:5])\n",
    "print('Uppercase:', s.upper())\n",
    "\n",
    "# List examples\n",
    "numbers = [1, 2, 3, 4, 5]\n",
    "mixed = [1, 'two', 3.0, [4, 5]]\n",
    "numbers.append(6)\n",
    "print('numbers:', numbers, type(numbers))\n",
    "print('mixed:', mixed)\n",
    "print('First element:', numbers[0])\n",
    "\n",
    "# Tuple examples\n",
    "t = (10, 20, 30)\n",
    "singleton = (42,)\n",
    "print('t:', t, type(t))\n",
    "print('singleton:', singleton)\n",
    "# t[0] = 5  # Uncommenting this line would raise an error (tuples are immutable)\n",
    "\n",
    "# Range examples\n",
    "r = range(1, 6)\n",
    "print('range:', list(r), type(r))\n",
    "for i in r:\n",
    "    print('Range value:', i)"
   ],
   "outputs": [
    {
     "name": "stdout",
     "output_type": "stream",
     "text": [
      "s: Hello, world! <class 'str'>\n",
      "multiline: This is a\n",
      "multi-line string.\n",
      "First 5 chars: Hello\n",
      "Uppercase: HELLO, WORLD!\n",
      "numbers: [1, 2, 3, 4, 5, 6] <class 'list'>\n",
      "mixed: [1, 'two', 3.0, [4, 5]]\n",
      "First element: 1\n",
      "t: (10, 20, 30) <class 'tuple'>\n",
      "singleton: (42,)\n",
      "range: [1, 2, 3, 4, 5] <class 'range'>\n",
      "Range value: 1\n",
      "Range value: 2\n",
      "Range value: 3\n",
      "Range value: 4\n",
      "Range value: 5\n"
     ]
    }
   ],
   "execution_count": 3
  },
  {
   "cell_type": "markdown",
   "id": "92216200",
   "metadata": {},
   "source": [
    "## 4. Mapping Type\n",
    "- **dict**: Unordered collections of key-value pairs. Keys must be unique and immutable."
   ]
  },
  {
   "cell_type": "code",
   "id": "c038a95d",
   "metadata": {
    "ExecuteTime": {
     "end_time": "2025-09-11T08:47:10.312893Z",
     "start_time": "2025-09-11T08:47:10.306850Z"
    }
   },
   "source": [
    "# Dictionary examples\n",
    "person = {'name': 'Alice', 'age': 30, 'is_student': False}\n",
    "print('person:', person, type(person))\n",
    "print('Name:', person['name'])\n",
    "# Add a new key-value pair\n",
    "person['city'] = 'London'\n",
    "print('Updated person:', person)\n",
    "\n",
    "# Nested dictionary\n",
    "student = {\n",
    "    'name': 'Bob',\n",
    "    'grades': {'math': 90, 'science': 85}\n",
    "}\n",
    "print('student:', student)\n",
    "print('Math grade:', student['grades']['math'])"
   ],
   "outputs": [
    {
     "name": "stdout",
     "output_type": "stream",
     "text": [
      "person: {'name': 'Alice', 'age': 30, 'is_student': False} <class 'dict'>\n",
      "Name: Alice\n",
      "Updated person: {'name': 'Alice', 'age': 30, 'is_student': False, 'city': 'London'}\n",
      "student: {'name': 'Bob', 'grades': {'math': 90, 'science': 85}}\n",
      "Math grade: 90\n"
     ]
    }
   ],
   "execution_count": 4
  },
  {
   "cell_type": "markdown",
   "id": "fbf70b83",
   "metadata": {},
   "source": [
    "## 5. Set Types\n",
    "- **set**: Unordered, mutable collections of unique elements.\n",
    "- **frozenset**: Unordered, immutable collections of unique elements."
   ]
  },
  {
   "cell_type": "code",
   "id": "b09e45f9",
   "metadata": {
    "ExecuteTime": {
     "end_time": "2025-09-11T08:47:10.327088Z",
     "start_time": "2025-09-11T08:47:10.321110Z"
    }
   },
   "source": [
    "# Set examples\n",
    "colors = {'red', 'green', 'blue', 'red'}  # Duplicates are removed\n",
    "colors.add('yellow')\n",
    "print('colors:', colors, type(colors))\n",
    "\n",
    "# Set operations\n",
    "A = {1, 2, 3}\n",
    "B = {3, 4, 5}\n",
    "print('A union B:', A | B)\n",
    "print('A intersection B:', A & B)\n",
    "print('A difference B:', A - B)\n",
    "\n",
    "# Frozenset examples\n",
    "immutable_colors = frozenset(['red', 'green', 'blue'])\n",
    "print('immutable_colors:', immutable_colors, type(immutable_colors))"
   ],
   "outputs": [
    {
     "name": "stdout",
     "output_type": "stream",
     "text": [
      "colors: {'green', 'red', 'yellow', 'blue'} <class 'set'>\n",
      "A union B: {1, 2, 3, 4, 5}\n",
      "A intersection B: {3}\n",
      "A difference B: {1, 2}\n",
      "immutable_colors: frozenset({'green', 'red', 'blue'}) <class 'frozenset'>\n"
     ]
    }
   ],
   "execution_count": 5
  },
  {
   "cell_type": "markdown",
   "id": "57320792",
   "metadata": {},
   "source": [
    "## 6. Binary Types\n",
    "- **bytes**: Immutable sequences of bytes.\n",
    "- **bytearray**: Mutable sequences of bytes.\n",
    "- **memoryview**: Memory-efficient view of binary data."
   ]
  },
  {
   "cell_type": "code",
   "id": "52c4ec85",
   "metadata": {
    "ExecuteTime": {
     "end_time": "2025-09-11T08:47:10.435364Z",
     "start_time": "2025-09-11T08:47:10.429519Z"
    }
   },
   "source": [
    "# Bytes examples\n",
    "b = b'hello'\n",
    "print('b:', b, type(b))\n",
    "\n",
    "# Bytearray examples\n",
    "ba = bytearray(b'hello')\n",
    "ba[0] = 72  # Change 'h' to 'H'\n",
    "print('ba:', ba, ba.decode(), type(ba))\n",
    "\n",
    "# Memoryview examples\n",
    "mv = memoryview(b'hello')\n",
    "print('mv:', mv, type(mv))\n",
    "print('First byte:', mv[0])"
   ],
   "outputs": [
    {
     "name": "stdout",
     "output_type": "stream",
     "text": [
      "b: b'hello' <class 'bytes'>\n",
      "ba: bytearray(b'Hello') Hello <class 'bytearray'>\n",
      "mv: <memory at 0x000002614A159F00> <class 'memoryview'>\n",
      "First byte: 104\n"
     ]
    }
   ],
   "execution_count": 6
  },
  {
   "cell_type": "markdown",
   "id": "682fa846",
   "metadata": {},
   "source": [
    "## 7. None Type\n",
    "- **NoneType**: Represents the absence of a value. Only one value: `None`."
   ]
  },
  {
   "cell_type": "code",
   "id": "1fef4cdb",
   "metadata": {
    "ExecuteTime": {
     "end_time": "2025-09-11T08:47:10.545085Z",
     "start_time": "2025-09-11T08:47:10.538919Z"
    }
   },
   "source": [
    "# NoneType examples\n",
    "result = None\n",
    "print('result:', result, type(result))\n",
    "\n",
    "def do_nothing():\n",
    "    pass\n",
    "\n",
    "output = do_nothing()\n",
    "print('Output of do_nothing():', output)"
   ],
   "outputs": [
    {
     "name": "stdout",
     "output_type": "stream",
     "text": [
      "result: None <class 'NoneType'>\n",
      "Output of do_nothing(): None\n"
     ]
    }
   ],
   "execution_count": 7
  },
  {
   "cell_type": "markdown",
   "id": "8f3cc7c3",
   "metadata": {},
   "source": [
    "## Summary Table\n",
    "| Category      | Type         | Description                                 |\n",
    "|---------------|--------------|---------------------------------------------|\n",
    "| Numeric       | int, float, complex | Numbers (integer, floating, complex)   |\n",
    "| Boolean       | bool         | True/False values                           |\n",
    "| Sequence      | str, list, tuple, range | Ordered collections                |\n",
    "| Mapping       | dict         | Key-value pairs                             |\n",
    "| Set           | set, frozenset | Unique unordered collections             |\n",
    "| Binary        | bytes, bytearray, memoryview | Binary data                    |\n",
    "| None          | NoneType     | Absence of value                            |\n",
    "\n",
    "These built-in types form the foundation for data handling in Python."
   ]
  }
 ],
 "metadata": {
  "language_info": {
   "name": "python"
  },
  "kernelspec": {
   "name": "python3",
   "language": "python",
   "display_name": "Python 3 (ipykernel)"
  }
 },
 "nbformat": 4,
 "nbformat_minor": 5
}
